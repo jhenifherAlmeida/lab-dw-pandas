{
 "cells": [
  {
   "cell_type": "code",
   "execution_count": 78,
   "metadata": {},
   "outputs": [],
   "source": [
    "import pandas as pd\n",
    "url = 'https://raw.githubusercontent.com/data-bootcamp-v4/data/main/file1.csv'\n",
    "df = pd.read_csv(url)"
   ]
  },
  {
   "cell_type": "code",
   "execution_count": 65,
   "metadata": {},
   "outputs": [
    {
     "name": "stdout",
     "output_type": "stream",
     "text": [
      "(4008, 11)\n"
     ]
    }
   ],
   "source": [
    "#Dimnesion of the dataset (Rows and columns)\n",
    "print(df.shape)"
   ]
  },
  {
   "cell_type": "code",
   "execution_count": 66,
   "metadata": {},
   "outputs": [
    {
     "name": "stdout",
     "output_type": "stream",
     "text": [
      "Customer                      object\n",
      "ST                            object\n",
      "GENDER                        object\n",
      "Education                     object\n",
      "Customer Lifetime Value       object\n",
      "Income                       float64\n",
      "Monthly Premium Auto         float64\n",
      "Number of Open Complaints     object\n",
      "Policy Type                   object\n",
      "Vehicle Class                 object\n",
      "Total Claim Amount           float64\n",
      "dtype: object\n"
     ]
    }
   ],
   "source": [
    "#Data types\n",
    "print(df.dtypes)"
   ]
  },
  {
   "cell_type": "code",
   "execution_count": 67,
   "metadata": {},
   "outputs": [
    {
     "data": {
      "text/plain": [
       "array(['RB50392', 'QZ44356', 'AI49188', ..., 'CW49887', 'MY31220', nan],\n",
       "      dtype=object)"
      ]
     },
     "execution_count": 67,
     "metadata": {},
     "output_type": "execute_result"
    }
   ],
   "source": [
    "df['Customer'].unique()"
   ]
  },
  {
   "cell_type": "code",
   "execution_count": 68,
   "metadata": {},
   "outputs": [
    {
     "data": {
      "text/plain": [
       "array([    0., 48767., 36357., 62902., 55350., 14072., 28812., 77026.,\n",
       "       99845., 83689., 24599., 25049., 28855., 51148., 66140., 57749.,\n",
       "       61040., 17870., 97541., 29723., 86584., 75690., 23158., 65999.,\n",
       "       37260., 68987., 42305., 65706., 53243., 50071., 60021., 43244.,\n",
       "       46896., 10105., 23218., 24804., 33190., 36014., 67163., 16701.,\n",
       "       46623., 64749., 16969., 11621., 17622., 11489., 66525., 33663.,\n",
       "       22547., 61486., 29879., 93011., 65186., 26840., 75644., 38984.,\n",
       "       71811., 20961., 41275., 61321., 51066., 34378., 43072., 25222.,\n",
       "       77552., 23091., 48269., 32720., 20396., 21513., 80744., 52822.,\n",
       "       69738., 17780., 18107., 57740., 32627., 65795., 60475., 41837.,\n",
       "       32303., 40531., 79898., 56398., 71600., 27804., 45506., 99428.,\n",
       "       20993., 37839., 92711., 74665., 61108., 46833., 88768., 28262.,\n",
       "       33555., 42780., 58850., 21880., 25251., 25317., 24188., 41611.,\n",
       "       28406., 69833., 80536., 88891., 97732., 61222., 50335., 82210.,\n",
       "       64495., 28859., 77330., 33060., 42557., 26372., 17514., 89270.,\n",
       "       29757., 51814., 24028., 28142., 52705., 54040., 22492., 21876.,\n",
       "       70699., 27501., 15897., 25141., 28358., 62530., 90972., 63110.,\n",
       "       29549., 39411., 21709., 67890., 84311., 99316., 54507., 64586.,\n",
       "       61709., 94656., 61085., 89284., 31686., 56855., 53703., 27679.,\n",
       "       23904., 65351., 64459., 32961., 71416., 68964., 78108., 10621.,\n",
       "       84910., 77493., 81097., 96610., 30110., 22081., 98473., 97431.,\n",
       "       93870., 50366., 34498., 16552., 26787., 43860., 21474., 18174.,\n",
       "       60920., 41520., 72208., 53863., 66446., 64997., 64460., 46618.,\n",
       "       49988., 16269., 72006., 44320., 19782., 63933., 28224., 21073.,\n",
       "       63243., 94827., 39161., 37534., 80210., 21708., 94731., 32375.,\n",
       "       16531., 32006., 81676., 71038., 20832., 52405., 26583., 25486.,\n",
       "       24065., 70435., 39679., 53565., 37574., 48259., 78532., 96163.,\n",
       "       72672., 99002., 79494., 35704., 26049., 70125., 52369., 41770.,\n",
       "       31911., 70051., 19683., 30916., 84302., 60145., 63774., 25134.,\n",
       "       37057., 58577., 85857., 70602., 33816., 89642., 60068., 50044.,\n",
       "       36650., 50653., 68931., 39266., 40864., 39035., 34923., 24506.,\n",
       "       52220., 53554., 34476., 68205., 53690., 74454., 29664., 72450.,\n",
       "       47272., 21585., 23827., 69906., 73196., 72217., 46131., 54514.,\n",
       "       96668., 78879., 29735., 23082., 53984., 52135., 17576., 29486.,\n",
       "       58557., 25632., 18768., 47945., 58778., 15192., 51859., 23422.,\n",
       "       21604., 79298., 76731., 38460., 48534., 30817., 48412., 68798.,\n",
       "       23712., 72196., 68197., 75248., 89879., 46998., 57099., 33897.,\n",
       "       59207., 40171., 80192., 74422., 34226., 65989., 30686., 20090.,\n",
       "       77094., 97413., 79189., 18577., 62777., 17483., 84394., 41440.,\n",
       "       98132., 88220., 58327., 25950., 65726., 84768., 36234., 58842.,\n",
       "       25629., 77311., 95697., 22254., 65974., 92079., 67752., 25398.,\n",
       "       33321., 38923., 20325., 13129., 49080., 42536., 29926., 21450.,\n",
       "       33345., 15752., 40169., 55411., 12459., 64620., 83140., 54422.,\n",
       "       68309., 56621., 38977., 83235., 32390., 66538., 23285., 76358.,\n",
       "       21104., 12964., 33288., 56168., 23105., 36218., 52275., 49665.,\n",
       "       32471., 62773., 76694., 55687., 36633., 77060., 92600., 64801.,\n",
       "       45257., 26854., 85840., 26463., 30689., 29590., 25965., 17269.,\n",
       "       90330., 18558., 46384., 42303., 71731., 26173., 24445., 72302.,\n",
       "       27208., 30855., 99960., 55873., 18052., 28937., 12829., 92163.,\n",
       "       17588., 41546., 70340., 34549., 93459., 86148., 27048., 73259.,\n",
       "       35482., 29462., 67801., 16042., 28056., 16495., 41163., 33799.,\n",
       "       90125., 87747., 35695., 90985., 66839., 79090., 24825., 26806.,\n",
       "       56835., 46135., 22862., 95854., 44897., 64455., 53265., 50450.,\n",
       "       54780., 67798., 21442., 27615., 50200., 73570., 70412., 36631.,\n",
       "       35895., 93018., 70014., 48875., 67969., 68665., 26802., 45345.,\n",
       "       89689., 32051., 81139., 63834., 37548., 72421., 83102., 28432.,\n",
       "       83707., 63259., 63860., 43836., 86132., 28519., 39102., 97298.,\n",
       "       41986., 17291., 37256., 96306., 14290., 37038., 90760., 77048.,\n",
       "       54480., 16244., 22436., 71592., 28728., 57449., 83318., 75217.,\n",
       "       55308., 36068., 48804., 55790., 70258., 47274., 44705., 70446.,\n",
       "       64348., 88997., 10312., 96263., 28919., 41869., 32808., 79780.,\n",
       "       91025., 33043., 69442., 47234., 86863., 25805., 43676., 59855.,\n",
       "       35296., 36576., 28513., 85448., 23791., 20597., 56940., 93210.,\n",
       "       48992., 53736., 25378., 37722., 69379., 33806., 94041., 74965.,\n",
       "       34095., 96045., 86355., 27824., 42995., 21235., 74585., 41833.,\n",
       "       23908., 61953., 73760., 23333., 20440., 27658., 50943., 19003.,\n",
       "       46703., 21733., 20811., 11904., 43490., 57340., 49088., 47761.,\n",
       "       61281., 25290., 24239., 82664., 83210., 38736., 55437., 68041.,\n",
       "       29066., 54337., 67616., 41082., 50631., 19592., 55761., 41449.,\n",
       "       62007., 21921., 42621., 63786., 82877., 10475., 21952., 49721.,\n",
       "       88340., 24589., 73769., 66670., 88854., 31266., 67267., 79270.,\n",
       "       36692., 44624., 19614., 83846., 51159., 83772., 88440., 25666.,\n",
       "       52926., 40001., 18024., 23220., 64125., 58042., 90034., 27972.,\n",
       "       50989., 11885., 89451., 78904., 70247., 32653., 93595., 90279.,\n",
       "       53310., 22234., 91375., 22250., 51179., 38667., 79487., 67763.,\n",
       "       71943., 53526., 35005., 24721., 48587., 76310., 73205., 51056.,\n",
       "       58414., 23940., 44216., 29305., 53882., 91757., 33906., 68158.,\n",
       "       42165., 68074., 84978., 71135., 64642., 46754., 70410., 66957.,\n",
       "       24213., 99790., 79751., 86122., 82297., 89057., 43259., 25064.,\n",
       "       25816., 41662., 96170., 46072., 37931., 35127., 45473., 93087.,\n",
       "       22398., 92983., 27689., 69654., 18608., 73168., 70930., 62262.,\n",
       "       91474., 61469., 16618., 48081., 67632., 34115., 23051., 23748.,\n",
       "       40589., 50809., 66676., 52339., 14973., 31546., 20836., 88592.,\n",
       "       66943., 81872., 22404., 21342., 34621., 62396., 97212., 49648.,\n",
       "       97984., 26308., 63528., 20225., 87620., 34990., 99934., 60804.,\n",
       "       94648., 24516., 61063., 15169., 55390., 27592., 61846., 83297.,\n",
       "       55897., 21297., 87560., 89398., 36843., 34946., 75680., 49532.,\n",
       "       10269., 49714., 77517., 81082., 72540., 61546., 44818., 79797.,\n",
       "       92717., 63568., 73935., 18846., 38893., 84824., 20068., 97245.,\n",
       "       51808., 71391., 23496., 55561., 23986., 22974., 61844., 27760.,\n",
       "       52266., 23599., 36088., 70534., 27398., 85296., 31063., 52367.,\n",
       "       58651., 84831., 70263., 45354., 28334., 38772., 41479., 23909.,\n",
       "       48328., 86689., 24204., 25943., 62375., 70200., 79027., 62935.,\n",
       "       26893., 47406., 27572., 32802., 62739., 90844., 44685., 42589.,\n",
       "       93383., 79583., 89129., 94389., 84106., 76717., 51978., 47325.,\n",
       "       86721., 24910., 43817., 59537., 54193., 86946., 12160., 33701.,\n",
       "       85702., 69417., 38644., 63209., 16061., 54230.,    nan])"
      ]
     },
     "execution_count": 68,
     "metadata": {},
     "output_type": "execute_result"
    }
   ],
   "source": [
    "df['Income'].unique()"
   ]
  },
  {
   "cell_type": "code",
   "execution_count": 69,
   "metadata": {},
   "outputs": [
    {
     "name": "stdout",
     "output_type": "stream",
     "text": [
      "Customer                     1071\n",
      "ST                              8\n",
      "GENDER                          5\n",
      "Education                       6\n",
      "Customer Lifetime Value      1027\n",
      "Income                        774\n",
      "Monthly Premium Auto          132\n",
      "Number of Open Complaints       6\n",
      "Policy Type                     3\n",
      "Vehicle Class                   6\n",
      "Total Claim Amount            761\n",
      "dtype: int64\n",
      "Categorical columns identified: ['Customer', 'ST', 'GENDER', 'Education', 'Customer Lifetime Value', 'Number of Open Complaints', 'Policy Type', 'Vehicle Class']\n",
      "nUnique values in 'Customer':\n",
      "['RB50392' 'QZ44356' 'AI49188' ... 'CW49887' 'MY31220' nan]\n",
      "nUnique values in 'ST':\n",
      "['Washington' 'Arizona' 'Nevada' 'California' 'Oregon' 'Cali' 'AZ' 'WA'\n",
      " nan]\n",
      "nUnique values in 'GENDER':\n",
      "[nan 'F' 'M' 'Femal' 'Male' 'female']\n",
      "nUnique values in 'Education':\n",
      "['Master' 'Bachelor' 'High School or Below' 'College' 'Bachelors' 'Doctor'\n",
      " nan]\n",
      "nUnique values in 'Customer Lifetime Value':\n",
      "[nan '697953.59%' '1288743.17%' ... '2031499.76%' '323912.47%'\n",
      " '899704.02%']\n",
      "nUnique values in 'Number of Open Complaints':\n",
      "['1/0/00' '1/2/00' '1/1/00' '1/3/00' '1/5/00' '1/4/00' nan]\n",
      "nUnique values in 'Policy Type':\n",
      "['Personal Auto' 'Corporate Auto' 'Special Auto' nan]\n",
      "nUnique values in 'Vehicle Class':\n",
      "['Four-Door Car' 'Two-Door Car' 'SUV' 'Luxury SUV' 'Sports Car'\n",
      " 'Luxury Car' nan]\n",
      "      Income  Monthly Premium Auto  Total Claim Amount\n",
      "min      0.0                  61.0            0.382107\n",
      "max  99960.0               35354.0         2893.239678\n"
     ]
    }
   ],
   "source": [
    "#unique values and categorical columns\n",
    "print(df.nunique())\n",
    "categorical_columns = df.select_dtypes(include=['object']).columns.tolist()\n",
    "print('Categorical columns identified:' , categorical_columns)\n",
    "\n",
    "#unique vales for each categorical colum\n",
    "for col in categorical_columns:\n",
    "    print(f\"nUnique values in '{col}':\")\n",
    "    print(df[col].unique())\n",
    "\n",
    "#for numerical columns\n",
    "numerical_columns = df.select_dtypes(include='number')   \n",
    "print(numerical_columns.agg(['min', 'max'])) "
   ]
  },
  {
   "cell_type": "code",
   "execution_count": 70,
   "metadata": {},
   "outputs": [
    {
     "name": "stdout",
     "output_type": "stream",
     "text": [
      "             Income  Monthly Premium Auto  Total Claim Amount\n",
      "count   1071.000000           1071.000000         1071.000000\n",
      "mean   39295.701214            193.234360          404.986909\n",
      "std    30469.427060           1601.190369          293.027260\n",
      "min        0.000000             61.000000            0.382107\n",
      "25%    14072.000000             68.000000          202.157702\n",
      "50%    36234.000000             83.000000          354.729129\n",
      "75%    64631.000000            109.500000          532.800000\n",
      "max    99960.000000          35354.000000         2893.239678\n"
     ]
    }
   ],
   "source": [
    "#summary statistics for numerical columns\n",
    "print(numerical_columns.describe())"
   ]
  },
  {
   "cell_type": "code",
   "execution_count": 71,
   "metadata": {},
   "outputs": [
    {
     "name": "stdout",
     "output_type": "stream",
     "text": [
      "Numerical Summary statistics with quartile bins:\n",
      "                       count          mean           std        min  \\\n",
      "Income                1071.0  39295.701214  30469.427060   0.000000   \n",
      "Monthly Premium Auto  1071.0    193.234360   1601.190369  61.000000   \n",
      "Total Claim Amount    1071.0    404.986909    293.027260   0.382107   \n",
      "\n",
      "                               25%           50%      75%           max  \\\n",
      "Income                14072.000000  36234.000000  64631.0  99960.000000   \n",
      "Monthly Premium Auto     68.000000     83.000000    109.5  35354.000000   \n",
      "Total Claim Amount      202.157702    354.729129    532.8   2893.239678   \n",
      "\n",
      "                            median   mode       std_dev  \n",
      "Income                36234.000000    0.0  30469.427060  \n",
      "Monthly Premium Auto     83.000000   65.0   1601.190369  \n",
      "Total Claim Amount      354.729129  321.6    293.027260  \n",
      "Sample of quatile bins:\n",
      "  Income_quartile Monthly Premium Auto_quartile Total Claim Amount_quartile\n",
      "0              Q1                            Q4                          Q1\n",
      "1              Q1                            Q3                          Q4\n",
      "2              Q3                            Q3                          Q4\n",
      "3              Q1                            Q3                          Q3\n",
      "4              Q3                            Q1                          Q1\n"
     ]
    }
   ],
   "source": [
    "numerical_stats = df.describe(include='number').T\n",
    "numerical_stats['median'] = df.median(numeric_only=True)\n",
    "numerical_stats['mode'] = df.mode(numeric_only=True).iloc[0]\n",
    "numerical_stats['std_dev'] = df.std(numeric_only=True)\n",
    "\n",
    "#quartile informations using qcut\n",
    "for col in df.select_dtypes(include='number').columns:\n",
    "    df[f'{col}_quartile'] = pd.qcut(df[col], q=4, labels=['Q1', 'Q2', 'Q3', 'Q4'])\n",
    "\n",
    "print('Numerical Summary statistics with quartile bins:')\n",
    "print(numerical_stats.head())\n",
    "print('Sample of quatile bins:')   \n",
    "print(df[[col for col in df.columns if 'quartile' in col]].head())"
   ]
  },
  {
   "cell_type": "code",
   "execution_count": 72,
   "metadata": {},
   "outputs": [
    {
     "data": {
      "text/plain": [
       "<bound method DataFrame.info of      Customer          ST GENDER             Education  \\\n",
       "0     RB50392  Washington    NaN                Master   \n",
       "1     QZ44356     Arizona      F              Bachelor   \n",
       "2     AI49188      Nevada      F              Bachelor   \n",
       "3     WW63253  California      M              Bachelor   \n",
       "4     GA49547  Washington      M  High School or Below   \n",
       "...       ...         ...    ...                   ...   \n",
       "4003      NaN         NaN    NaN                   NaN   \n",
       "4004      NaN         NaN    NaN                   NaN   \n",
       "4005      NaN         NaN    NaN                   NaN   \n",
       "4006      NaN         NaN    NaN                   NaN   \n",
       "4007      NaN         NaN    NaN                   NaN   \n",
       "\n",
       "     Customer Lifetime Value   Income  Monthly Premium Auto  \\\n",
       "0                        NaN      0.0                1000.0   \n",
       "1                 697953.59%      0.0                  94.0   \n",
       "2                1288743.17%  48767.0                 108.0   \n",
       "3                 764586.18%      0.0                 106.0   \n",
       "4                 536307.65%  36357.0                  68.0   \n",
       "...                      ...      ...                   ...   \n",
       "4003                     NaN      NaN                   NaN   \n",
       "4004                     NaN      NaN                   NaN   \n",
       "4005                     NaN      NaN                   NaN   \n",
       "4006                     NaN      NaN                   NaN   \n",
       "4007                     NaN      NaN                   NaN   \n",
       "\n",
       "     Number of Open Complaints     Policy Type  Vehicle Class  \\\n",
       "0                       1/0/00   Personal Auto  Four-Door Car   \n",
       "1                       1/0/00   Personal Auto  Four-Door Car   \n",
       "2                       1/0/00   Personal Auto   Two-Door Car   \n",
       "3                       1/0/00  Corporate Auto            SUV   \n",
       "4                       1/0/00   Personal Auto  Four-Door Car   \n",
       "...                        ...             ...            ...   \n",
       "4003                       NaN             NaN            NaN   \n",
       "4004                       NaN             NaN            NaN   \n",
       "4005                       NaN             NaN            NaN   \n",
       "4006                       NaN             NaN            NaN   \n",
       "4007                       NaN             NaN            NaN   \n",
       "\n",
       "      Total Claim Amount Income_quartile Monthly Premium Auto_quartile  \\\n",
       "0               2.704934              Q1                            Q4   \n",
       "1            1131.464935              Q1                            Q3   \n",
       "2             566.472247              Q3                            Q3   \n",
       "3             529.881344              Q1                            Q3   \n",
       "4              17.269323              Q3                            Q1   \n",
       "...                  ...             ...                           ...   \n",
       "4003                 NaN             NaN                           NaN   \n",
       "4004                 NaN             NaN                           NaN   \n",
       "4005                 NaN             NaN                           NaN   \n",
       "4006                 NaN             NaN                           NaN   \n",
       "4007                 NaN             NaN                           NaN   \n",
       "\n",
       "     Total Claim Amount_quartile  \n",
       "0                             Q1  \n",
       "1                             Q4  \n",
       "2                             Q4  \n",
       "3                             Q3  \n",
       "4                             Q1  \n",
       "...                          ...  \n",
       "4003                         NaN  \n",
       "4004                         NaN  \n",
       "4005                         NaN  \n",
       "4006                         NaN  \n",
       "4007                         NaN  \n",
       "\n",
       "[4008 rows x 14 columns]>"
      ]
     },
     "execution_count": 72,
     "metadata": {},
     "output_type": "execute_result"
    }
   ],
   "source": [
    "df.info"
   ]
  },
  {
   "cell_type": "code",
   "execution_count": 73,
   "metadata": {},
   "outputs": [
    {
     "name": "stdout",
     "output_type": "stream",
     "text": [
      "ST\n",
      "AZ             25\n",
      "WA             30\n",
      "Washington     81\n",
      "Nevada         98\n",
      "Cali          120\n",
      "Name: count, dtype: int64\n"
     ]
    }
   ],
   "source": [
    "#challenge 2: Analyzing the data\n",
    "#exercise 1\n",
    "state_counts = df['ST'].value_counts()\n",
    "top_5_less_common_states = state_counts.nsmallest(5)\n",
    "print(top_5_less_common_states)"
   ]
  },
  {
   "cell_type": "code",
   "execution_count": 74,
   "metadata": {},
   "outputs": [
    {
     "name": "stdout",
     "output_type": "stream",
     "text": [
      "Policy Type\n",
      "Personal Auto     780\n",
      "Corporate Auto    234\n",
      "Special Auto       57\n",
      "Name: count, dtype: int64\n",
      "Policy type with the highest number of policies sold:\n",
      "Personal Auto\n"
     ]
    }
   ],
   "source": [
    "#Exercise 2\n",
    "policy_counts = df['Policy Type'].value_counts()\n",
    "most_sold_policy_types = policy_counts.idxmax()\n",
    "print(policy_counts)\n",
    "print('Policy type with the highest number of policies sold:')\n",
    "print(most_sold_policy_types)"
   ]
  },
  {
   "cell_type": "code",
   "execution_count": 75,
   "metadata": {},
   "outputs": [
    {
     "name": "stdout",
     "output_type": "stream",
     "text": [
      "Average Income (Personal auto): $38180.70\n",
      "Average Income (Corporate auto): $41390.31\n"
     ]
    }
   ],
   "source": [
    "#exercise 3\n",
    "personal_auto_df = df.loc[df['Policy Type'] == 'Personal Auto']\n",
    "corporate_auto_df = df.loc[df['Policy Type'] == 'Corporate Auto']\n",
    "personal_auto_avg_income = personal_auto_df['Income'].mean()\n",
    "corporate_auto_avg_income = corporate_auto_df['Income'].mean()\n",
    "print(f'Average Income (Personal auto): ${personal_auto_avg_income:.2f}')\n",
    "print(f'Average Income (Corporate auto): ${corporate_auto_avg_income:.2f}')\n"
   ]
  },
  {
   "cell_type": "code",
   "execution_count": 76,
   "metadata": {},
   "outputs": [
    {
     "data": {
      "image/png": "[encoded data removed]",
      "text/plain": [
       "<Figure size 640x480 with 1 Axes>"
      ]
     },
     "metadata": {},
     "output_type": "display_data"
    }
   ],
   "source": [
    "#bar chart just practising \n",
    "import matplotlib.pyplot as plt\n",
    "\n",
    "policy_types = ['Personal Auto', 'Corporate Auto']\n",
    "avg_incomes = [personal_auto_avg_income, corporate_auto_avg_income]\n",
    "\n",
    "plt.bar(policy_types, avg_incomes, color=['teal', 'darkorange'])\n",
    "plt.title('Average Income by policy types')\n",
    "plt.xlabel('Policy Type')\n",
    "plt.ylabel('Average Income ($)')\n",
    "plt.show()"
   ]
  },
  {
   "cell_type": "code",
   "execution_count": 81,
   "metadata": {},
   "outputs": [
    {
     "name": "stdout",
     "output_type": "stream",
     "text": [
      "count    1071.000000\n",
      "mean      404.986909\n",
      "std       293.027260\n",
      "min         0.382107\n",
      "25%       202.157702\n",
      "50%       354.729129\n",
      "75%       532.800000\n",
      "max      2893.239678\n",
      "Name: Total Claim Amount, dtype: float64\n"
     ]
    }
   ],
   "source": [
    "#exercise 4\n",
    "print(df['Total Claim Amount'].describe())\n"
   ]
  },
  {
   "cell_type": "code",
   "execution_count": 82,
   "metadata": {},
   "outputs": [
    {
     "name": "stdout",
     "output_type": "stream",
     "text": [
      "75th Percentile (Tpo 25% Threshold): $532.80\n"
     ]
    }
   ],
   "source": [
    "#calculate the 75th for total claim amount\n",
    "top_25_percentile = df['Total Claim Amount'].quantile(0.75)\n",
    "print(f'75th Percentile (Tpo 25% Threshold): ${top_25_percentile:.2f}')"
   ]
  },
  {
   "cell_type": "code",
   "execution_count": 84,
   "metadata": {},
   "outputs": [
    {
     "name": "stdout",
     "output_type": "stream",
     "text": [
      "             Income  Monthly Premium Auto  Total Claim Amount\n",
      "count    264.000000            264.000000          264.000000\n",
      "mean   23677.344697            165.193182          782.228263\n",
      "std    27013.483721            623.930992          292.751640\n",
      "min        0.000000             63.000000          537.600000\n",
      "25%        0.000000             99.000000          606.521741\n",
      "50%    18807.000000            114.000000          679.597985\n",
      "75%    42423.750000            133.250000          851.400000\n",
      "max    99316.000000          10202.000000         2893.239678\n"
     ]
    }
   ],
   "source": [
    "#dataframe for high claim customers\n",
    "high_claims_df = df[df['Total Claim Amount'] > top_25_percentile]\n",
    "#Summary statistics for high claim \n",
    "print(high_claims_df.describe())"
   ]
  }
 ],
 "metadata": {
  "kernelspec": {
   "display_name": "base",
   "language": "python",
   "name": "python3"
  },
  "language_info": {
   "codemirror_mode": {
    "name": "ipython",
    "version": 3
   },
   "file_extension": ".py",
   "mimetype": "text/x-python",
   "name": "python",
   "nbconvert_exporter": "python",
   "pygments_lexer": "ipython3",
   "version": "3.12.7"
  }
 },
 "nbformat": 4,
 "nbformat_minor": 2
}
